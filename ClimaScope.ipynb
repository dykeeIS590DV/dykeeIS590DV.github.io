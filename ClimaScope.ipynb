{
  "nbformat": 4,
  "nbformat_minor": 0,
  "metadata": {
    "colab": {
      "provenance": [],
      "authorship_tag": "ABX9TyP3U+uVX/Pr23v9cLU9yhyI",
      "include_colab_link": true
    },
    "kernelspec": {
      "name": "python3",
      "display_name": "Python 3"
    },
    "language_info": {
      "name": "python"
    }
  },
  "cells": [
    {
      "cell_type": "markdown",
      "metadata": {
        "id": "view-in-github",
        "colab_type": "text"
      },
      "source": [
        "<a href=\"https://colab.research.google.com/github/dykeeIS590DV/dykeeIS590DV.github.io/blob/master/ClimaScope.ipynb\" target=\"_parent\"><img src=\"https://colab.research.google.com/assets/colab-badge.svg\" alt=\"Open In Colab\"/></a>"
      ]
    },
    {
      "cell_type": "code",
      "execution_count": 2,
      "metadata": {
        "colab": {
          "base_uri": "https://localhost:8080/"
        },
        "id": "_8HiapBQAx1a",
        "outputId": "5c0392fd-9af2-4e0e-d27f-ed8392b988e3"
      },
      "outputs": [
        {
          "output_type": "stream",
          "name": "stdout",
          "text": [
            "Collecting python-dotenv\n",
            "  Downloading python_dotenv-1.1.0-py3-none-any.whl.metadata (24 kB)\n",
            "Downloading python_dotenv-1.1.0-py3-none-any.whl (20 kB)\n",
            "Installing collected packages: python-dotenv\n",
            "Successfully installed python-dotenv-1.1.0\n"
          ]
        }
      ],
      "source": [
        "# 📁 Create necessary folders\n",
        "import os\n",
        "os.makedirs(\"data\", exist_ok=True)\n",
        "os.makedirs(\"plots\", exist_ok=True)\n",
        "\n",
        "# 📦 Install necessary packages\n",
        "!pip install python-dotenv\n",
        "\n",
        "# 📚 Import libraries\n",
        "import requests\n",
        "import pandas as pd\n",
        "import matplotlib.pyplot as plt\n",
        "import seaborn as sns\n",
        "import time\n",
        "import getpass\n"
      ]
    },
    {
      "cell_type": "code",
      "source": [
        "# 🔐 Securely input NOAA API token\n",
        "NOAA_TOKEN = getpass.getpass(\"Enter your NOAA API Token: \")\n",
        "\n",
        "# Headers for requests\n",
        "headers = {\n",
        "    \"token\": NOAA_TOKEN\n",
        "}"
      ],
      "metadata": {
        "colab": {
          "base_uri": "https://localhost:8080/"
        },
        "id": "iqpZMql-L-LN",
        "outputId": "a24d7bec-a897-4abe-f4c5-eeeb53b0f7bf"
      },
      "execution_count": 3,
      "outputs": [
        {
          "name": "stdout",
          "output_type": "stream",
          "text": [
            "Enter your NOAA API Token: ··········\n"
          ]
        }
      ]
    },
    {
      "cell_type": "code",
      "source": [
        "# State FIPS codes (lower 48 + AK/HI)\n",
        "state_fips = {\n",
        "    '01': 'AL', '02': 'AK', '04': 'AZ', '05': 'AR', '06': 'CA',\n",
        "    '08': 'CO', '09': 'CT', '10': 'DE', '11': 'DC', '12': 'FL',\n",
        "    '13': 'GA', '15': 'HI', '16': 'ID', '17': 'IL', '18': 'IN',\n",
        "    '19': 'IA', '20': 'KS', '21': 'KY', '22': 'LA', '23': 'ME',\n",
        "    '24': 'MD', '25': 'MA', '26': 'MI', '27': 'MN', '28': 'MS',\n",
        "    '29': 'MO', '30': 'MT', '31': 'NE', '32': 'NV', '33': 'NH',\n",
        "    '34': 'NJ', '35': 'NM', '36': 'NY', '37': 'NC', '38': 'ND',\n",
        "    '39': 'OH', '40': 'OK', '41': 'OR', '42': 'PA', '44': 'RI',\n",
        "    '45': 'SC', '46': 'SD', '47': 'TN', '48': 'TX', '49': 'UT',\n",
        "    '50': 'VT', '51': 'VA', '53': 'WA', '54': 'WV', '55': 'WI',\n",
        "    '56': 'WY'\n",
        "}\n"
      ],
      "metadata": {
        "id": "_NVRTGxJMtP0"
      },
      "execution_count": 4,
      "outputs": []
    },
    {
      "cell_type": "code",
      "source": [
        "def fetch_temp_data(state_code, state_abbr):\n",
        "    url = \"https://www.ncei.noaa.gov/cdo-web/api/v2/data\"\n",
        "\n",
        "    params = {\n",
        "        \"datasetid\": \"GHCND\",\n",
        "        \"datatypeid\": \"TAVG\",\n",
        "        \"locationid\": f\"FIPS:{state_code}\",\n",
        "        \"startdate\": \"2023-01-01\",\n",
        "        \"enddate\": \"2023-12-31\",\n",
        "        \"units\": \"standard\",\n",
        "        \"limit\": 1000,\n",
        "        \"offset\": 1\n",
        "    }\n",
        "\n",
        "    all_data = []\n",
        "    offset = 1\n",
        "    max_retries = 3\n",
        "\n",
        "    while True:\n",
        "        params[\"offset\"] = offset\n",
        "\n",
        "        for attempt in range(max_retries):\n",
        "            response = requests.get(url, headers=headers, params=params)\n",
        "            code = response.status_code\n",
        "\n",
        "            if code == 200:\n",
        "                data = response.json().get(\"results\", [])\n",
        "                if not data:\n",
        "                    return pd.DataFrame(all_data)  # no more data\n",
        "                all_data.extend(data)\n",
        "                offset += 1000\n",
        "                time.sleep(1)  # avoid rate limits\n",
        "                break  # break out of retry loop to continue with next offset\n",
        "\n",
        "            elif code == 400:\n",
        "                print(f\"❌ Bad Request for {state_abbr}. Check parameters.\")\n",
        "                return pd.DataFrame()\n",
        "\n",
        "            elif code == 401:\n",
        "                print(f\"🔐 Unauthorized for {state_abbr}. Check API token.\")\n",
        "                raise Exception(\"Invalid NOAA API token. Aborting all requests.\")\n",
        "\n",
        "            elif code == 429:\n",
        "                wait_time = 10\n",
        "                print(f\"🚫 Rate limit hit for {state_abbr}. Waiting {wait_time} seconds...\")\n",
        "                time.sleep(wait_time)\n",
        "                continue  # retry\n",
        "\n",
        "            elif code >= 500:\n",
        "                print(f\"💥 Server error ({code}) for {state_abbr}. Retrying... ({attempt + 1}/{max_retries})\")\n",
        "                time.sleep(2)\n",
        "                continue\n",
        "\n",
        "            else:\n",
        "                print(f\"❗Unexpected error {code} for {state_abbr}. Skipping.\")\n",
        "                return pd.DataFrame()\n",
        "        else:\n",
        "            print(f\"❌ Max retries reached for {state_abbr}. Moving on.\")\n",
        "            break\n",
        "\n",
        "    print(f\"✅ {state_abbr}: Retrieved {len(all_data)} records.\")\n",
        "    return pd.DataFrame(all_data)"
      ],
      "metadata": {
        "id": "ihsftG7NM0-g"
      },
      "execution_count": 5,
      "outputs": []
    },
    {
      "cell_type": "code",
      "source": [
        "all_states_data = []\n",
        "\n",
        "for code, abbr in state_fips.items():\n",
        "    df = fetch_temp_data(code, abbr)\n",
        "    df['state'] = abbr\n",
        "    df.to_csv(f\"data/{abbr}_temp_2023.csv\", index=False)\n",
        "    all_states_data.append(df)\n",
        "\n",
        "# Combine all into one DataFrame\n",
        "combined_df = pd.concat(all_states_data, ignore_index=True)\n",
        "combined_df.to_csv(\"data/all_states_tavg_2023.csv\", index=False)"
      ],
      "metadata": {
        "colab": {
          "base_uri": "https://localhost:8080/"
        },
        "id": "MC2y5yWmM9av",
        "outputId": "7d0ee6bc-52c0-4364-c9f2-e7af57c3088e"
      },
      "execution_count": null,
      "outputs": [
        {
          "output_type": "stream",
          "name": "stdout",
          "text": [
            "💥 Server error (503) for AL. Retrying... (1/3)\n"
          ]
        }
      ]
    }
  ]
}