{
  "nbformat": 4,
  "nbformat_minor": 0,
  "metadata": {
    "colab": {
      "provenance": [],
      "authorship_tag": "ABX9TyOoE8FanqdFFYLcPt1ilAfG",
      "include_colab_link": true
    },
    "kernelspec": {
      "name": "python3",
      "display_name": "Python 3"
    },
    "language_info": {
      "name": "python"
    }
  },
  "cells": [
    {
      "cell_type": "markdown",
      "metadata": {
        "id": "view-in-github",
        "colab_type": "text"
      },
      "source": [
        "<a href=\"https://colab.research.google.com/github/dykeeIS590DV/dykeeIS590DV.github.io/blob/master/Copy_of_dataCleaningPres.ipynb\" target=\"_parent\"><img src=\"https://colab.research.google.com/assets/colab-badge.svg\" alt=\"Open In Colab\"/></a>"
      ]
    },
    {
      "cell_type": "code",
      "source": [
        "pwd"
      ],
      "metadata": {
        "colab": {
          "base_uri": "https://localhost:8080/",
          "height": 37
        },
        "id": "ajUHFrPnVY7e",
        "outputId": "b455e4bb-dbb2-4acd-ba26-ebf29e945f83"
      },
      "execution_count": null,
      "outputs": [
        {
          "output_type": "execute_result",
          "data": {
            "text/plain": [
              "'/content/drive/MyDrive/colabNotebooks/unmcFiles'"
            ],
            "application/vnd.google.colaboratory.intrinsic+json": {
              "type": "string"
            }
          },
          "metadata": {},
          "execution_count": 16
        }
      ]
    },
    {
      "cell_type": "code",
      "source": [
        "from google.colab import drive\n",
        "drive.mount('/content/drive')"
      ],
      "metadata": {
        "colab": {
          "base_uri": "https://localhost:8080/"
        },
        "id": "payJ-T64ZM1q",
        "outputId": "fcd56755-90c3-427d-8795-8bd490f647eb"
      },
      "execution_count": null,
      "outputs": [
        {
          "output_type": "stream",
          "name": "stdout",
          "text": [
            "Drive already mounted at /content/drive; to attempt to forcibly remount, call drive.mount(\"/content/drive\", force_remount=True).\n"
          ]
        }
      ]
    },
    {
      "cell_type": "code",
      "execution_count": null,
      "metadata": {
        "colab": {
          "base_uri": "https://localhost:8080/"
        },
        "id": "YT0EEKFATHrQ",
        "outputId": "15e302a3-6ef3-45fb-8f25-902ed6f5b291"
      },
      "outputs": [
        {
          "output_type": "stream",
          "name": "stdout",
          "text": [
            "/content/drive/My Drive/Colab Notebooks/buffFiles\n"
          ]
        }
      ],
      "source": [
        "%cd '/content/drive/My Drive/colabNotebooks/unmcFiles'"
      ]
    },
    {
      "cell_type": "code",
      "source": [
        "import pandas as pd"
      ],
      "metadata": {
        "id": "uHrW6qQPaa_z"
      },
      "execution_count": null,
      "outputs": []
    },
    {
      "cell_type": "code",
      "source": [
        "import numpy as np"
      ],
      "metadata": {
        "id": "5cproTaYbxLv"
      },
      "execution_count": null,
      "outputs": []
    },
    {
      "cell_type": "code",
      "source": [
        "import matplotlib.pyplot as plt"
      ],
      "metadata": {
        "id": "vnPcmcFbb1Ww"
      },
      "execution_count": null,
      "outputs": []
    },
    {
      "cell_type": "code",
      "source": [
        "import seaborn as sns"
      ],
      "metadata": {
        "id": "yJwkSY-eb5Pu"
      },
      "execution_count": null,
      "outputs": []
    },
    {
      "cell_type": "code",
      "source": [
        "data = pd.read_csv(\"surveys.csv\")"
      ],
      "metadata": {
        "id": "6ZL_2cEIc1A5"
      },
      "execution_count": null,
      "outputs": []
    },
    {
      "cell_type": "code",
      "source": [
        "print(data)"
      ],
      "metadata": {
        "colab": {
          "base_uri": "https://localhost:8080/"
        },
        "id": "ymsLia0WdNhM",
        "outputId": "f5743870-36d8-4d65-bc9e-94f702d32460"
      },
      "execution_count": null,
      "outputs": [
        {
          "output_type": "stream",
          "name": "stdout",
          "text": [
            "       record_id  month  day  year  plot_id species_id  sex  hindfoot_length  \\\n",
            "0              1      7   16  1977        2         NL    M             32.0   \n",
            "1              2      7   16  1977        3         NL    M             33.0   \n",
            "2              3      7   16  1977        2         DM    F             37.0   \n",
            "3              4      7   16  1977        7         DM    M             36.0   \n",
            "4              5      7   16  1977        3         DM    M             35.0   \n",
            "...          ...    ...  ...   ...      ...        ...  ...              ...   \n",
            "35544      35545     12   31  2002       15         AH  NaN              NaN   \n",
            "35545      35546     12   31  2002       15         AH  NaN              NaN   \n",
            "35546      35547     12   31  2002       10         RM    F             15.0   \n",
            "35547      35548     12   31  2002        7         DO    M             36.0   \n",
            "35548      35549     12   31  2002        5        NaN  NaN              NaN   \n",
            "\n",
            "       weight  \n",
            "0         NaN  \n",
            "1         NaN  \n",
            "2         NaN  \n",
            "3         NaN  \n",
            "4         NaN  \n",
            "...       ...  \n",
            "35544     NaN  \n",
            "35545     NaN  \n",
            "35546    14.0  \n",
            "35547    51.0  \n",
            "35548     NaN  \n",
            "\n",
            "[35549 rows x 9 columns]\n"
          ]
        }
      ]
    },
    {
      "cell_type": "markdown",
      "source": [
        "This is a very improtant step because this printing of our data shows us that there will be problems with NaN inmputs."
      ],
      "metadata": {
        "id": "VnMlff1cdxE9"
      }
    },
    {
      "cell_type": "code",
      "source": [
        "print(data.head())"
      ],
      "metadata": {
        "colab": {
          "base_uri": "https://localhost:8080/"
        },
        "id": "7tHa3w-0eG5C",
        "outputId": "28e4c7f1-9877-486c-fbcc-e7903205a696"
      },
      "execution_count": null,
      "outputs": [
        {
          "output_type": "stream",
          "name": "stdout",
          "text": [
            "   record_id  month  day  year  plot_id species_id sex  hindfoot_length  \\\n",
            "0          1      7   16  1977        2         NL   M             32.0   \n",
            "1          2      7   16  1977        3         NL   M             33.0   \n",
            "2          3      7   16  1977        2         DM   F             37.0   \n",
            "3          4      7   16  1977        7         DM   M             36.0   \n",
            "4          5      7   16  1977        3         DM   M             35.0   \n",
            "\n",
            "   weight  \n",
            "0     NaN  \n",
            "1     NaN  \n",
            "2     NaN  \n",
            "3     NaN  \n",
            "4     NaN  \n"
          ]
        }
      ]
    },
    {
      "cell_type": "code",
      "source": [
        "print(data.tail())"
      ],
      "metadata": {
        "colab": {
          "base_uri": "https://localhost:8080/"
        },
        "id": "-O7jI8aYfR_I",
        "outputId": "4ffd9acb-9621-475b-ff6a-87d99fc8706c"
      },
      "execution_count": null,
      "outputs": [
        {
          "output_type": "stream",
          "name": "stdout",
          "text": [
            "       record_id  month  day  year  plot_id species_id  sex  hindfoot_length  \\\n",
            "35544      35545     12   31  2002       15         AH  NaN              NaN   \n",
            "35545      35546     12   31  2002       15         AH  NaN              NaN   \n",
            "35546      35547     12   31  2002       10         RM    F             15.0   \n",
            "35547      35548     12   31  2002        7         DO    M             36.0   \n",
            "35548      35549     12   31  2002        5        NaN  NaN              NaN   \n",
            "\n",
            "       weight  \n",
            "35544     NaN  \n",
            "35545     NaN  \n",
            "35546    14.0  \n",
            "35547    51.0  \n",
            "35548     NaN  \n"
          ]
        }
      ]
    },
    {
      "cell_type": "code",
      "source": [
        "print(data.info())"
      ],
      "metadata": {
        "colab": {
          "base_uri": "https://localhost:8080/"
        },
        "id": "A1rgXreufvx1",
        "outputId": "dc1eec73-b2e8-4d05-e10a-dcd583c9c036"
      },
      "execution_count": null,
      "outputs": [
        {
          "output_type": "stream",
          "name": "stdout",
          "text": [
            "<class 'pandas.core.frame.DataFrame'>\n",
            "RangeIndex: 35549 entries, 0 to 35548\n",
            "Data columns (total 9 columns):\n",
            " #   Column           Non-Null Count  Dtype  \n",
            "---  ------           --------------  -----  \n",
            " 0   record_id        35549 non-null  int64  \n",
            " 1   month            35549 non-null  int64  \n",
            " 2   day              35549 non-null  int64  \n",
            " 3   year             35549 non-null  int64  \n",
            " 4   plot_id          35549 non-null  int64  \n",
            " 5   species_id       34786 non-null  object \n",
            " 6   sex              33038 non-null  object \n",
            " 7   hindfoot_length  31438 non-null  float64\n",
            " 8   weight           32283 non-null  float64\n",
            "dtypes: float64(2), int64(5), object(2)\n",
            "memory usage: 2.4+ MB\n",
            "None\n"
          ]
        }
      ]
    },
    {
      "cell_type": "code",
      "source": [
        "#Checking for duplicates\n",
        "\n",
        "##print(\"\\nChecking for Duplicates\\n\")\n",
        "##print(data.duplicated())\n",
        "\n",
        "duplicates = data.duplicated()\n",
        "    # Check if any duplicates exist\n",
        "if duplicates.any():\n",
        "  print(\"The DataFrame contains duplicates.\")\n",
        "else:\n",
        "  print(\"The DataFrame does not contain duplicates.\")"
      ],
      "metadata": {
        "colab": {
          "base_uri": "https://localhost:8080/"
        },
        "id": "O9Ci5c_LpLRJ",
        "outputId": "d5bbb99e-ad9c-413d-cf36-665db4dd4d28"
      },
      "execution_count": null,
      "outputs": [
        {
          "output_type": "stream",
          "name": "stdout",
          "text": [
            "The DataFrame does not contain duplicates.\n"
          ]
        }
      ]
    },
    {
      "cell_type": "code",
      "source": [
        "# While there is no duplicates, we can use the code below to remove any duplicates from our file in a\n",
        "# Removing duplicates\n",
        "newData = data.drop_duplicates()\n",
        "print(\"\\nDataset after removing duplicates:\\n\")\n",
        "print(newData)"
      ],
      "metadata": {
        "colab": {
          "base_uri": "https://localhost:8080/"
        },
        "id": "AiWJsYqPMYCE",
        "outputId": "aa864ba8-49f0-49a9-a46a-372967ee1b2b"
      },
      "execution_count": 40,
      "outputs": [
        {
          "output_type": "stream",
          "name": "stdout",
          "text": [
            "\n",
            "Dataset after removing duplicates:\n",
            "\n",
            "       record_id  month  day  year  plot_id species_id  sex  hindfoot_length  \\\n",
            "0              1      7   16  1977        2         NL    M             32.0   \n",
            "1              2      7   16  1977        3         NL    M             33.0   \n",
            "2              3      7   16  1977        2         DM    F             37.0   \n",
            "3              4      7   16  1977        7         DM    M             36.0   \n",
            "4              5      7   16  1977        3         DM    M             35.0   \n",
            "...          ...    ...  ...   ...      ...        ...  ...              ...   \n",
            "35544      35545     12   31  2002       15         AH  NaN              NaN   \n",
            "35545      35546     12   31  2002       15         AH  NaN              NaN   \n",
            "35546      35547     12   31  2002       10         RM    F             15.0   \n",
            "35547      35548     12   31  2002        7         DO    M             36.0   \n",
            "35548      35549     12   31  2002        5        NaN  NaN              NaN   \n",
            "\n",
            "       weight  \n",
            "0         NaN  \n",
            "1         NaN  \n",
            "2         NaN  \n",
            "3         NaN  \n",
            "4         NaN  \n",
            "...       ...  \n",
            "35544     NaN  \n",
            "35545     NaN  \n",
            "35546    14.0  \n",
            "35547    51.0  \n",
            "35548     NaN  \n",
            "\n",
            "[35549 rows x 9 columns]\n"
          ]
        }
      ]
    },
    {
      "cell_type": "code",
      "source": [
        "# Checking for missing values\n",
        "print(\"\\nChecking for Missing Values:\")\n",
        "print(data.isnull().sum())"
      ],
      "metadata": {
        "colab": {
          "base_uri": "https://localhost:8080/"
        },
        "id": "Kre-GMxaMth-",
        "outputId": "3041ca7c-9049-46d8-89ed-5e0445f711cc"
      },
      "execution_count": null,
      "outputs": [
        {
          "output_type": "stream",
          "name": "stdout",
          "text": [
            "\n",
            "Checking for Missing Values:\n",
            "record_id             0\n",
            "month                 0\n",
            "day                   0\n",
            "year                  0\n",
            "plot_id               0\n",
            "species_id          763\n",
            "sex                2511\n",
            "hindfoot_length    4111\n",
            "weight             3266\n",
            "dtype: int64\n"
          ]
        }
      ]
    }
  ]
}