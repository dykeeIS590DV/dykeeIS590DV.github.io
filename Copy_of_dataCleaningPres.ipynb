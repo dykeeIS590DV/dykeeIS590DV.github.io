{
  "nbformat": 4,
  "nbformat_minor": 0,
  "metadata": {
    "colab": {
      "provenance": [],
      "authorship_tag": "ABX9TyPFBI/sGdEb1fFS6Pxk02FB",
      "include_colab_link": true
    },
    "kernelspec": {
      "name": "python3",
      "display_name": "Python 3"
    },
    "language_info": {
      "name": "python"
    }
  },
  "cells": [
    {
      "cell_type": "markdown",
      "metadata": {
        "id": "view-in-github",
        "colab_type": "text"
      },
      "source": [
        "<a href=\"https://colab.research.google.com/github/dykeeIS590DV/dykeeIS590DV.github.io/blob/master/Copy_of_dataCleaningPres.ipynb\" target=\"_parent\"><img src=\"https://colab.research.google.com/assets/colab-badge.svg\" alt=\"Open In Colab\"/></a>"
      ]
    },
    {
      "cell_type": "code",
      "source": [
        "pwd"
      ],
      "metadata": {
        "colab": {
          "base_uri": "https://localhost:8080/",
          "height": 37
        },
        "id": "ajUHFrPnVY7e",
        "outputId": "a90abd02-4b6b-4f04-a50f-c8729a44ad8c"
      },
      "execution_count": null,
      "outputs": [
        {
          "output_type": "execute_result",
          "data": {
            "text/plain": [
              "'/content'"
            ],
            "application/vnd.google.colaboratory.intrinsic+json": {
              "type": "string"
            }
          },
          "metadata": {},
          "execution_count": 9
        }
      ]
    },
    {
      "cell_type": "code",
      "source": [
        "from google.colab import drive\n",
        "drive.mount('/content/drive')"
      ],
      "metadata": {
        "colab": {
          "base_uri": "https://localhost:8080/"
        },
        "id": "payJ-T64ZM1q",
        "outputId": "4d24386c-ec08-444b-b165-bac2d965869d"
      },
      "execution_count": null,
      "outputs": [
        {
          "output_type": "stream",
          "name": "stdout",
          "text": [
            "Mounted at /content/drive\n"
          ]
        }
      ]
    },
    {
      "cell_type": "code",
      "execution_count": null,
      "metadata": {
        "colab": {
          "base_uri": "https://localhost:8080/"
        },
        "id": "YT0EEKFATHrQ",
        "outputId": "33a70df8-fdd7-4bb1-bfb7-5a86773bd585"
      },
      "outputs": [
        {
          "output_type": "stream",
          "name": "stdout",
          "text": [
            "/content/drive/My Drive/Colab Notebooks/buffFiles\n"
          ]
        }
      ],
      "source": [
        "%cd '/content/drive/My Drive/Colab Notebooks/buffFiles'"
      ]
    },
    {
      "cell_type": "code",
      "source": [
        "import pandas as pd"
      ],
      "metadata": {
        "id": "uHrW6qQPaa_z"
      },
      "execution_count": null,
      "outputs": []
    },
    {
      "cell_type": "code",
      "source": [
        "import numpy as np"
      ],
      "metadata": {
        "id": "5cproTaYbxLv"
      },
      "execution_count": null,
      "outputs": []
    },
    {
      "cell_type": "code",
      "source": [
        "import matplotlib.pyplot as plt"
      ],
      "metadata": {
        "id": "vnPcmcFbb1Ww"
      },
      "execution_count": null,
      "outputs": []
    },
    {
      "cell_type": "code",
      "source": [
        "import seaborn as sns"
      ],
      "metadata": {
        "id": "yJwkSY-eb5Pu"
      },
      "execution_count": null,
      "outputs": []
    },
    {
      "cell_type": "code",
      "source": [
        "data = pd.read_csv(\"surveys.csv\")"
      ],
      "metadata": {
        "id": "6ZL_2cEIc1A5"
      },
      "execution_count": null,
      "outputs": []
    },
    {
      "cell_type": "code",
      "source": [
        "print(data)"
      ],
      "metadata": {
        "colab": {
          "base_uri": "https://localhost:8080/"
        },
        "id": "ymsLia0WdNhM",
        "outputId": "26a8eadb-0715-4d7b-ba48-7148d3e04570"
      },
      "execution_count": null,
      "outputs": [
        {
          "output_type": "stream",
          "name": "stdout",
          "text": [
            "       record_id  month  day  year  plot_id species_id  sex  hindfoot_length  \\\n",
            "0              1      7   16  1977        2         NL    M             32.0   \n",
            "1              2      7   16  1977        3         NL    M             33.0   \n",
            "2              3      7   16  1977        2         DM    F             37.0   \n",
            "3              4      7   16  1977        7         DM    M             36.0   \n",
            "4              5      7   16  1977        3         DM    M             35.0   \n",
            "...          ...    ...  ...   ...      ...        ...  ...              ...   \n",
            "35544      35545     12   31  2002       15         AH  NaN              NaN   \n",
            "35545      35546     12   31  2002       15         AH  NaN              NaN   \n",
            "35546      35547     12   31  2002       10         RM    F             15.0   \n",
            "35547      35548     12   31  2002        7         DO    M             36.0   \n",
            "35548      35549     12   31  2002        5        NaN  NaN              NaN   \n",
            "\n",
            "       weight  \n",
            "0         NaN  \n",
            "1         NaN  \n",
            "2         NaN  \n",
            "3         NaN  \n",
            "4         NaN  \n",
            "...       ...  \n",
            "35544     NaN  \n",
            "35545     NaN  \n",
            "35546    14.0  \n",
            "35547    51.0  \n",
            "35548     NaN  \n",
            "\n",
            "[35549 rows x 9 columns]\n"
          ]
        }
      ]
    },
    {
      "cell_type": "markdown",
      "source": [
        "This is a very improtant step because this printing of our data shows us that there will be problems with NaN inmputs."
      ],
      "metadata": {
        "id": "VnMlff1cdxE9"
      }
    },
    {
      "cell_type": "code",
      "source": [
        "print(data.head())"
      ],
      "metadata": {
        "colab": {
          "base_uri": "https://localhost:8080/"
        },
        "id": "7tHa3w-0eG5C",
        "outputId": "295ac8bd-1e68-4438-b110-e30c3f329f40"
      },
      "execution_count": null,
      "outputs": [
        {
          "output_type": "stream",
          "name": "stdout",
          "text": [
            "   record_id  month  day  year  plot_id species_id sex  hindfoot_length  \\\n",
            "0          1      7   16  1977        2         NL   M             32.0   \n",
            "1          2      7   16  1977        3         NL   M             33.0   \n",
            "2          3      7   16  1977        2         DM   F             37.0   \n",
            "3          4      7   16  1977        7         DM   M             36.0   \n",
            "4          5      7   16  1977        3         DM   M             35.0   \n",
            "\n",
            "   weight  \n",
            "0     NaN  \n",
            "1     NaN  \n",
            "2     NaN  \n",
            "3     NaN  \n",
            "4     NaN  \n"
          ]
        }
      ]
    },
    {
      "cell_type": "code",
      "source": [
        "print(data.tail())"
      ],
      "metadata": {
        "colab": {
          "base_uri": "https://localhost:8080/"
        },
        "id": "-O7jI8aYfR_I",
        "outputId": "18d06a34-9368-4112-c110-478986dc01e4"
      },
      "execution_count": null,
      "outputs": [
        {
          "output_type": "stream",
          "name": "stdout",
          "text": [
            "       record_id  month  day  year  plot_id species_id  sex  hindfoot_length  \\\n",
            "35544      35545     12   31  2002       15         AH  NaN              NaN   \n",
            "35545      35546     12   31  2002       15         AH  NaN              NaN   \n",
            "35546      35547     12   31  2002       10         RM    F             15.0   \n",
            "35547      35548     12   31  2002        7         DO    M             36.0   \n",
            "35548      35549     12   31  2002        5        NaN  NaN              NaN   \n",
            "\n",
            "       weight  \n",
            "35544     NaN  \n",
            "35545     NaN  \n",
            "35546    14.0  \n",
            "35547    51.0  \n",
            "35548     NaN  \n"
          ]
        }
      ]
    },
    {
      "cell_type": "code",
      "source": [
        "print(data.info())"
      ],
      "metadata": {
        "colab": {
          "base_uri": "https://localhost:8080/"
        },
        "id": "A1rgXreufvx1",
        "outputId": "e7c31217-8d33-48db-ce6d-37971da2a636"
      },
      "execution_count": null,
      "outputs": [
        {
          "output_type": "stream",
          "name": "stdout",
          "text": [
            "<class 'pandas.core.frame.DataFrame'>\n",
            "RangeIndex: 35549 entries, 0 to 35548\n",
            "Data columns (total 9 columns):\n",
            " #   Column           Non-Null Count  Dtype  \n",
            "---  ------           --------------  -----  \n",
            " 0   record_id        35549 non-null  int64  \n",
            " 1   month            35549 non-null  int64  \n",
            " 2   day              35549 non-null  int64  \n",
            " 3   year             35549 non-null  int64  \n",
            " 4   plot_id          35549 non-null  int64  \n",
            " 5   species_id       34786 non-null  object \n",
            " 6   sex              33038 non-null  object \n",
            " 7   hindfoot_length  31438 non-null  float64\n",
            " 8   weight           32283 non-null  float64\n",
            "dtypes: float64(2), int64(5), object(2)\n",
            "memory usage: 2.4+ MB\n",
            "None\n"
          ]
        }
      ]
    }
  ]
}